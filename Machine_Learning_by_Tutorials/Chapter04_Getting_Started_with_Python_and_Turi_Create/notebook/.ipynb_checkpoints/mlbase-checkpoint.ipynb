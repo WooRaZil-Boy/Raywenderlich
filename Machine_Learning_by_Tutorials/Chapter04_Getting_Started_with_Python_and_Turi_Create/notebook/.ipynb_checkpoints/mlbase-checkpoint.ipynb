{
 "cells": [
  {
   "cell_type": "code",
   "execution_count": 1,
   "metadata": {},
   "outputs": [
    {
     "name": "stderr",
     "output_type": "stream",
     "text": [
      "/Users/geunseong-gai/anaconda3/envs/mlenv/lib/python3.7/importlib/_bootstrap.py:219: RuntimeWarning: numpy.ufunc size changed, may indicate binary incompatibility. Expected 192 from C header, got 216 from PyObject\n",
      "  return f(*args, **kwds)\n",
      "Matplotlib is building the font cache using fc-list. This may take a moment.\n"
     ]
    }
   ],
   "source": [
    "import numpy as np\n",
    "import pandas as pd\n",
    "import matplotlib.pyplot as plt"
   ]
  },
  {
   "cell_type": "code",
   "execution_count": 2,
   "metadata": {},
   "outputs": [
    {
     "data": {
      "text/html": [
       "<div>\n",
       "<style scoped>\n",
       "    .dataframe tbody tr th:only-of-type {\n",
       "        vertical-align: middle;\n",
       "    }\n",
       "\n",
       "    .dataframe tbody tr th {\n",
       "        vertical-align: top;\n",
       "    }\n",
       "\n",
       "    .dataframe thead th {\n",
       "        text-align: right;\n",
       "    }\n",
       "</style>\n",
       "<table border=\"1\" class=\"dataframe\">\n",
       "  <thead>\n",
       "    <tr style=\"text-align: right;\">\n",
       "      <th></th>\n",
       "      <th>title</th>\n",
       "      <th>author</th>\n",
       "      <th>text</th>\n",
       "    </tr>\n",
       "  </thead>\n",
       "  <tbody>\n",
       "    <tr>\n",
       "      <th>0</th>\n",
       "      <td>When You Are Old</td>\n",
       "      <td>William Butler Yeats</td>\n",
       "      <td>When you are old and grey and full of sleep,\\n...</td>\n",
       "    </tr>\n",
       "    <tr>\n",
       "      <th>1</th>\n",
       "      <td>On being asked for a War Poem</td>\n",
       "      <td>William Butler Yeats</td>\n",
       "      <td>I think it better that in times like these\\nA ...</td>\n",
       "    </tr>\n",
       "    <tr>\n",
       "      <th>2</th>\n",
       "      <td>He Wishes For The Cloths Of Heaven</td>\n",
       "      <td>William Butler Yeats</td>\n",
       "      <td>Had I the heavens' embroidered cloths,\\nEnwrou...</td>\n",
       "    </tr>\n",
       "    <tr>\n",
       "      <th>3</th>\n",
       "      <td>He Wishes His Beloved Were Dead</td>\n",
       "      <td>William Butler Yeats</td>\n",
       "      <td>Were you but lying cold and dead,\\nAnd lights ...</td>\n",
       "    </tr>\n",
       "    <tr>\n",
       "      <th>4</th>\n",
       "      <td>A Drinking Song</td>\n",
       "      <td>William Butler Yeats</td>\n",
       "      <td>Wine comes in at the mouth\\nAnd love comes in ...</td>\n",
       "    </tr>\n",
       "  </tbody>\n",
       "</table>\n",
       "</div>"
      ],
      "text/plain": [
       "                                title                author  \\\n",
       "0                    When You Are Old  William Butler Yeats   \n",
       "1       On being asked for a War Poem  William Butler Yeats   \n",
       "2  He Wishes For The Cloths Of Heaven  William Butler Yeats   \n",
       "3     He Wishes His Beloved Were Dead  William Butler Yeats   \n",
       "4                     A Drinking Song  William Butler Yeats   \n",
       "\n",
       "                                                text  \n",
       "0  When you are old and grey and full of sleep,\\n...  \n",
       "1  I think it better that in times like these\\nA ...  \n",
       "2  Had I the heavens' embroidered cloths,\\nEnwrou...  \n",
       "3  Were you but lying cold and dead,\\nAnd lights ...  \n",
       "4  Wine comes in at the mouth\\nAnd love comes in ...  "
      ]
     },
     "execution_count": 2,
     "metadata": {},
     "output_type": "execute_result"
    }
   ],
   "source": [
    "data = pd.read_json('corpus.json', orient='records')\n",
    "data.head()"
   ]
  },
  {
   "cell_type": "code",
   "execution_count": 3,
   "metadata": {},
   "outputs": [],
   "source": [
    "?data.tail"
   ]
  },
  {
   "cell_type": "code",
   "execution_count": 4,
   "metadata": {},
   "outputs": [
    {
     "data": {
      "text/html": [
       "<div>\n",
       "<style scoped>\n",
       "    .dataframe tbody tr th:only-of-type {\n",
       "        vertical-align: middle;\n",
       "    }\n",
       "\n",
       "    .dataframe tbody tr th {\n",
       "        vertical-align: top;\n",
       "    }\n",
       "\n",
       "    .dataframe thead th {\n",
       "        text-align: right;\n",
       "    }\n",
       "</style>\n",
       "<table border=\"1\" class=\"dataframe\">\n",
       "  <thead>\n",
       "    <tr style=\"text-align: right;\">\n",
       "      <th></th>\n",
       "      <th>title</th>\n",
       "      <th>author</th>\n",
       "      <th>text</th>\n",
       "    </tr>\n",
       "  </thead>\n",
       "  <tbody>\n",
       "    <tr>\n",
       "      <th>516</th>\n",
       "      <td>Serenade (For Music)</td>\n",
       "      <td>Oscar Wilde</td>\n",
       "      <td>The western wind is blowing fair\\nAcross the d...</td>\n",
       "    </tr>\n",
       "    <tr>\n",
       "      <th>517</th>\n",
       "      <td>Roses And Rue</td>\n",
       "      <td>Oscar Wilde</td>\n",
       "      <td>(To L. L.)\\n\\nCould we dig up this long-buried...</td>\n",
       "    </tr>\n",
       "    <tr>\n",
       "      <th>518</th>\n",
       "      <td>From Spring Days To Winter (For Music)</td>\n",
       "      <td>Oscar Wilde</td>\n",
       "      <td>In the glad springtime when leaves were green,...</td>\n",
       "    </tr>\n",
       "  </tbody>\n",
       "</table>\n",
       "</div>"
      ],
      "text/plain": [
       "                                      title       author  \\\n",
       "516                    Serenade (For Music)  Oscar Wilde   \n",
       "517                           Roses And Rue  Oscar Wilde   \n",
       "518  From Spring Days To Winter (For Music)  Oscar Wilde   \n",
       "\n",
       "                                                  text  \n",
       "516  The western wind is blowing fair\\nAcross the d...  \n",
       "517  (To L. L.)\\n\\nCould we dig up this long-buried...  \n",
       "518  In the glad springtime when leaves were green,...  "
      ]
     },
     "execution_count": 4,
     "metadata": {},
     "output_type": "execute_result"
    }
   ],
   "source": [
    "data.tail(3)"
   ]
  },
  {
   "cell_type": "code",
   "execution_count": 5,
   "metadata": {},
   "outputs": [
    {
     "data": {
      "text/html": [
       "<div>\n",
       "<style scoped>\n",
       "    .dataframe tbody tr th:only-of-type {\n",
       "        vertical-align: middle;\n",
       "    }\n",
       "\n",
       "    .dataframe tbody tr th {\n",
       "        vertical-align: top;\n",
       "    }\n",
       "\n",
       "    .dataframe thead th {\n",
       "        text-align: right;\n",
       "    }\n",
       "</style>\n",
       "<table border=\"1\" class=\"dataframe\">\n",
       "  <thead>\n",
       "    <tr style=\"text-align: right;\">\n",
       "      <th></th>\n",
       "      <th>title</th>\n",
       "      <th>author</th>\n",
       "      <th>text</th>\n",
       "    </tr>\n",
       "  </thead>\n",
       "  <tbody>\n",
       "    <tr>\n",
       "      <th>count</th>\n",
       "      <td>519</td>\n",
       "      <td>519</td>\n",
       "      <td>519</td>\n",
       "    </tr>\n",
       "    <tr>\n",
       "      <th>unique</th>\n",
       "      <td>516</td>\n",
       "      <td>10</td>\n",
       "      <td>517</td>\n",
       "    </tr>\n",
       "    <tr>\n",
       "      <th>top</th>\n",
       "      <td>On being asked for a War Poem</td>\n",
       "      <td>Emily Dickinson</td>\n",
       "      <td>O SORROW!\\n   Why dost borrow\\n   The natural ...</td>\n",
       "    </tr>\n",
       "    <tr>\n",
       "      <th>freq</th>\n",
       "      <td>2</td>\n",
       "      <td>361</td>\n",
       "      <td>2</td>\n",
       "    </tr>\n",
       "  </tbody>\n",
       "</table>\n",
       "</div>"
      ],
      "text/plain": [
       "                                title           author  \\\n",
       "count                             519              519   \n",
       "unique                            516               10   \n",
       "top     On being asked for a War Poem  Emily Dickinson   \n",
       "freq                                2              361   \n",
       "\n",
       "                                                     text  \n",
       "count                                                 519  \n",
       "unique                                                517  \n",
       "top     O SORROW!\\n   Why dost borrow\\n   The natural ...  \n",
       "freq                                                    2  "
      ]
     },
     "execution_count": 5,
     "metadata": {},
     "output_type": "execute_result"
    }
   ],
   "source": [
    "data.describe()"
   ]
  },
  {
   "cell_type": "code",
   "execution_count": 6,
   "metadata": {},
   "outputs": [
    {
     "data": {
      "text/html": [
       "<div>\n",
       "<style scoped>\n",
       "    .dataframe tbody tr th:only-of-type {\n",
       "        vertical-align: middle;\n",
       "    }\n",
       "\n",
       "    .dataframe tbody tr th {\n",
       "        vertical-align: top;\n",
       "    }\n",
       "\n",
       "    .dataframe thead th {\n",
       "        text-align: right;\n",
       "    }\n",
       "</style>\n",
       "<table border=\"1\" class=\"dataframe\">\n",
       "  <thead>\n",
       "    <tr style=\"text-align: right;\">\n",
       "      <th></th>\n",
       "      <th>title</th>\n",
       "      <th>author</th>\n",
       "      <th>text</th>\n",
       "    </tr>\n",
       "  </thead>\n",
       "  <tbody>\n",
       "    <tr>\n",
       "      <th>69</th>\n",
       "      <td>\"Arcturus\" is his other name</td>\n",
       "      <td>Emily Dickinson</td>\n",
       "      <td>\"Arcturus\" is his other name --\\nI'd rather ca...</td>\n",
       "    </tr>\n",
       "    <tr>\n",
       "      <th>81</th>\n",
       "      <td>\"Faith\" is a fine invention</td>\n",
       "      <td>Emily Dickinson</td>\n",
       "      <td>\"Faith\" is a fine invention\\nWhen Gentlemen ca...</td>\n",
       "    </tr>\n",
       "    <tr>\n",
       "      <th>224</th>\n",
       "      <td>\"Faithful to the end\" Amended</td>\n",
       "      <td>Emily Dickinson</td>\n",
       "      <td>\"Faithful to the end\" Amended\\nFrom the Heaven...</td>\n",
       "    </tr>\n",
       "    <tr>\n",
       "      <th>356</th>\n",
       "      <td>\"Heaven\" -- is what I cannot reach!</td>\n",
       "      <td>Emily Dickinson</td>\n",
       "      <td>\"Heaven\" -- is what I cannot reach!\\nThe Apple...</td>\n",
       "    </tr>\n",
       "    <tr>\n",
       "      <th>193</th>\n",
       "      <td>\"Heaven\" has different Signs -- to me --</td>\n",
       "      <td>Emily Dickinson</td>\n",
       "      <td>\"Heaven\" has different Signs -- to me --\\nSome...</td>\n",
       "    </tr>\n",
       "    <tr>\n",
       "      <th>...</th>\n",
       "      <td>...</td>\n",
       "      <td>...</td>\n",
       "      <td>...</td>\n",
       "    </tr>\n",
       "    <tr>\n",
       "      <th>21</th>\n",
       "      <td>Written On A Summer Evening</td>\n",
       "      <td>John Keats</td>\n",
       "      <td>The church bells toll a melancholy round,\\nCal...</td>\n",
       "    </tr>\n",
       "    <tr>\n",
       "      <th>58</th>\n",
       "      <td>Yesterday is History,</td>\n",
       "      <td>Emily Dickinson</td>\n",
       "      <td>Yesterday is History,\\n'Tis so far away --\\nYe...</td>\n",
       "    </tr>\n",
       "    <tr>\n",
       "      <th>408</th>\n",
       "      <td>You Are Old, Father William</td>\n",
       "      <td>Lewis Carroll</td>\n",
       "      <td>\"You are old, Father william,\" the young man s...</td>\n",
       "    </tr>\n",
       "    <tr>\n",
       "      <th>281</th>\n",
       "      <td>You know that Portrait in the Moon --</td>\n",
       "      <td>Emily Dickinson</td>\n",
       "      <td>You know that Portrait in the Moon --\\nSo tell...</td>\n",
       "    </tr>\n",
       "    <tr>\n",
       "      <th>122</th>\n",
       "      <td>You see I cannot see -- your lifetime</td>\n",
       "      <td>Emily Dickinson</td>\n",
       "      <td>You see I cannot see -- your lifetime --\\nI mu...</td>\n",
       "    </tr>\n",
       "  </tbody>\n",
       "</table>\n",
       "<p>519 rows × 3 columns</p>\n",
       "</div>"
      ],
      "text/plain": [
       "                                        title           author  \\\n",
       "69               \"Arcturus\" is his other name  Emily Dickinson   \n",
       "81                \"Faith\" is a fine invention  Emily Dickinson   \n",
       "224             \"Faithful to the end\" Amended  Emily Dickinson   \n",
       "356       \"Heaven\" -- is what I cannot reach!  Emily Dickinson   \n",
       "193  \"Heaven\" has different Signs -- to me --  Emily Dickinson   \n",
       "..                                        ...              ...   \n",
       "21                Written On A Summer Evening       John Keats   \n",
       "58                      Yesterday is History,  Emily Dickinson   \n",
       "408               You Are Old, Father William    Lewis Carroll   \n",
       "281     You know that Portrait in the Moon --  Emily Dickinson   \n",
       "122     You see I cannot see -- your lifetime  Emily Dickinson   \n",
       "\n",
       "                                                  text  \n",
       "69   \"Arcturus\" is his other name --\\nI'd rather ca...  \n",
       "81   \"Faith\" is a fine invention\\nWhen Gentlemen ca...  \n",
       "224  \"Faithful to the end\" Amended\\nFrom the Heaven...  \n",
       "356  \"Heaven\" -- is what I cannot reach!\\nThe Apple...  \n",
       "193  \"Heaven\" has different Signs -- to me --\\nSome...  \n",
       "..                                                 ...  \n",
       "21   The church bells toll a melancholy round,\\nCal...  \n",
       "58   Yesterday is History,\\n'Tis so far away --\\nYe...  \n",
       "408  \"You are old, Father william,\" the young man s...  \n",
       "281  You know that Portrait in the Moon --\\nSo tell...  \n",
       "122  You see I cannot see -- your lifetime --\\nI mu...  \n",
       "\n",
       "[519 rows x 3 columns]"
      ]
     },
     "execution_count": 6,
     "metadata": {},
     "output_type": "execute_result"
    }
   ],
   "source": [
    "data.sort_values(by='title')"
   ]
  },
  {
   "cell_type": "code",
   "execution_count": 7,
   "metadata": {},
   "outputs": [
    {
     "data": {
      "text/plain": [
       "Emily Dickinson         361\n",
       "Walt Whitman             67\n",
       "John Keats               25\n",
       "Joyce Kilmer             16\n",
       "William Butler Yeats     10\n",
       "Oscar Wilde              10\n",
       "Lewis Carroll             9\n",
       "Charlotte Bronte          8\n",
       "Edgar Allan Poe           7\n",
       "Sir Walter Scott          6\n",
       "Name: author, dtype: int64"
      ]
     },
     "execution_count": 7,
     "metadata": {},
     "output_type": "execute_result"
    }
   ],
   "source": [
    "authors = data.author\n",
    "freq = authors.value_counts()\n",
    "freq"
   ]
  },
  {
   "cell_type": "code",
   "execution_count": 8,
   "metadata": {},
   "outputs": [
    {
     "data": {
      "image/png": "[encoded data removed]",
      "text/plain": [
       "<Figure size 432x288 with 1 Axes>"
      ]
     },
     "metadata": {
      "needs_background": "light"
     },
     "output_type": "display_data"
    }
   ],
   "source": [
    "plt.hist(freq, bins=100) \n",
    "plt.show()"
   ]
  },
  {
   "cell_type": "code",
   "execution_count": null,
   "metadata": {},
   "outputs": [],
   "source": []
  }
 ],
 "metadata": {
  "kernelspec": {
   "display_name": "Python 3",
   "language": "python",
   "name": "python3"
  },
  "language_info": {
   "codemirror_mode": {
    "name": "ipython",
    "version": 3
   },
   "file_extension": ".py",
   "mimetype": "text/x-python",
   "name": "python",
   "nbconvert_exporter": "python",
   "pygments_lexer": "ipython3",
   "version": "3.7.7"
  }
 },
 "nbformat": 4,
 "nbformat_minor": 2
}
