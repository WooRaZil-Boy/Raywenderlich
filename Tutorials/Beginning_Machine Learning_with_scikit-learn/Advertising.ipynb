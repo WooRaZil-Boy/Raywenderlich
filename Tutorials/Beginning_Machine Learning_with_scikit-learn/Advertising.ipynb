{
 "cells": [
  {
   "cell_type": "markdown",
   "metadata": {},
   "source": [
    "# Training and Validating a Linear Regression Model"
   ]
  },
  {
   "cell_type": "code",
   "execution_count": 1,
   "metadata": {},
   "outputs": [],
   "source": [
    "import pandas as pd"
   ]
  },
  {
   "cell_type": "code",
   "execution_count": 2,
   "metadata": {},
   "outputs": [
    {
     "data": {
      "text/html": [
       "<div>\n",
       "<style scoped>\n",
       "    .dataframe tbody tr th:only-of-type {\n",
       "        vertical-align: middle;\n",
       "    }\n",
       "\n",
       "    .dataframe tbody tr th {\n",
       "        vertical-align: top;\n",
       "    }\n",
       "\n",
       "    .dataframe thead th {\n",
       "        text-align: right;\n",
       "    }\n",
       "</style>\n",
       "<table border=\"1\" class=\"dataframe\">\n",
       "  <thead>\n",
       "    <tr style=\"text-align: right;\">\n",
       "      <th></th>\n",
       "      <th>TV</th>\n",
       "      <th>radio</th>\n",
       "      <th>newspaper</th>\n",
       "      <th>sales</th>\n",
       "    </tr>\n",
       "  </thead>\n",
       "  <tbody>\n",
       "    <tr>\n",
       "      <th>0</th>\n",
       "      <td>230.1</td>\n",
       "      <td>37.8</td>\n",
       "      <td>69.2</td>\n",
       "      <td>22.1</td>\n",
       "    </tr>\n",
       "    <tr>\n",
       "      <th>1</th>\n",
       "      <td>44.5</td>\n",
       "      <td>39.3</td>\n",
       "      <td>45.1</td>\n",
       "      <td>10.4</td>\n",
       "    </tr>\n",
       "    <tr>\n",
       "      <th>2</th>\n",
       "      <td>17.2</td>\n",
       "      <td>45.9</td>\n",
       "      <td>69.3</td>\n",
       "      <td>9.3</td>\n",
       "    </tr>\n",
       "    <tr>\n",
       "      <th>3</th>\n",
       "      <td>151.5</td>\n",
       "      <td>41.3</td>\n",
       "      <td>58.5</td>\n",
       "      <td>18.5</td>\n",
       "    </tr>\n",
       "    <tr>\n",
       "      <th>4</th>\n",
       "      <td>180.8</td>\n",
       "      <td>10.8</td>\n",
       "      <td>58.4</td>\n",
       "      <td>12.9</td>\n",
       "    </tr>\n",
       "  </tbody>\n",
       "</table>\n",
       "</div>"
      ],
      "text/plain": [
       "      TV  radio  newspaper  sales\n",
       "0  230.1   37.8       69.2   22.1\n",
       "1   44.5   39.3       45.1   10.4\n",
       "2   17.2   45.9       69.3    9.3\n",
       "3  151.5   41.3       58.5   18.5\n",
       "4  180.8   10.8       58.4   12.9"
      ]
     },
     "execution_count": 2,
     "metadata": {},
     "output_type": "execute_result"
    }
   ],
   "source": [
    "adver = pd.read_csv(\"Advertising.csv\", usecols=[1, 2, 3, 4]) #dataFrame으로 변환\n",
    "adver.head()"
   ]
  },
  {
   "cell_type": "code",
   "execution_count": 3,
   "metadata": {},
   "outputs": [],
   "source": [
    "X, y = adver.iloc[:, :-1], adver.iloc[:, -1]\n",
    "# X : 모든 행, 마지막 열 제외 = 마지막 열을 제외한 모든 값\n",
    "# y : 모든 행, 마지막 열만 = 마지막 열의 값"
   ]
  },
  {
   "cell_type": "code",
   "execution_count": 4,
   "metadata": {},
   "outputs": [],
   "source": [
    "import sklearn.model_selection as ms"
   ]
  },
  {
   "cell_type": "code",
   "execution_count": 5,
   "metadata": {},
   "outputs": [],
   "source": [
    "X_train, X_test, y_train, y_test = ms.train_test_split(X, y, test_size=0.25, random_state=42)\n",
    "#모델을 훈련하고 검증하려면 데이터를 training set와 testing set으로 분리해야 한다.\n",
    "#train_test_split 함수로 쉽게 분리할 수 있다. 매개변수는 다음과 같다.\n",
    "# X : Advertisments.csv에서 가져온 inputs\n",
    "# y : output(answer, label)\n",
    "# test_size : test에 사용할 데이터의 백분율. 일반적으로 25% ~ 40% 사이로 설정하는 것이 좋다.\n",
    "# random_state : random seed. 입력하지 않으면 무작위로 선택한다.\n",
    "\n",
    "#linear regression : http://adit.io/posts/2016-02-20-Linear-Regression-in-Pictures.html"
   ]
  },
  {
   "cell_type": "code",
   "execution_count": 6,
   "metadata": {},
   "outputs": [],
   "source": [
    "import sklearn.linear_model as lm"
   ]
  },
  {
   "cell_type": "code",
   "execution_count": 7,
   "metadata": {},
   "outputs": [
    {
     "data": {
      "text/plain": [
       "0.8935163320163657"
      ]
     },
     "execution_count": 7,
     "metadata": {},
     "output_type": "execute_result"
    }
   ],
   "source": [
    "regr = lm.LinearRegression() #선형 회귀 모델 객체를 생성한다.\n",
    "regr.fit(X_train, y_train) #fit() 으로 모델을 훈련시킨다.\n",
    "regr.score(X_test, y_test) #모델의 훈련 결과 점수를 표시한다. 선형 회귀의 경우, 훈련한 모델의 예상한 출력이 실체 값과 얼마나 가까운지 보여준다."
   ]
  },
  {
   "cell_type": "code",
   "execution_count": 8,
   "metadata": {},
   "outputs": [
    {
     "data": {
      "text/plain": [
       "array([34.15367536, 23.83792444, 31.57473763])"
      ]
     },
     "execution_count": 8,
     "metadata": {},
     "output_type": "execute_result"
    }
   ],
   "source": [
    "X_new = [[ 50.0, 150.0, 150.0],\n",
    "         [250.0,  50.0,  50.0],\n",
    "         [100.0, 125.0, 125.0]]\n",
    "#실제로 모델에 적용할 값\n",
    "\n",
    "regr.predict(X_new) #훈련된 모델로 예측한 값을 출력한다.\n",
    "\n",
    "#TV, radio, newspaper에 각각 $50k, $150k, $150k 씩 광고비를 소비하면, 모델이 예측한 판매량은 34,150이 된다."
   ]
  },
  {
   "cell_type": "markdown",
   "metadata": {},
   "source": [
    "# Training and Validating a Support Vector Machine Model"
   ]
  },
  {
   "cell_type": "code",
   "execution_count": 9,
   "metadata": {},
   "outputs": [],
   "source": [
    "import sklearn.svm as svm\n",
    "#SVM은 가장 많이 사용되는 기계 학습 모델 중 하나로, LR보다 훈련에 더 많은 시간이 소요된다.\n",
    "#대다수의 scikit-learn의 기계 학습 모델에서 fit(), score(), predict() 를 공통으로 사용한다."
   ]
  },
  {
   "cell_type": "code",
   "execution_count": 10,
   "metadata": {},
   "outputs": [
    {
     "data": {
      "text/plain": [
       "0.8665383823569167"
      ]
     },
     "execution_count": 10,
     "metadata": {},
     "output_type": "execute_result"
    }
   ],
   "source": [
    "svr = svm.LinearSVR(random_state=42)\n",
    "svr.fit(X_train, y_train)\n",
    "svr.score(X_test, y_test)"
   ]
  },
  {
   "cell_type": "code",
   "execution_count": 11,
   "metadata": {},
   "outputs": [
    {
     "data": {
      "text/plain": [
       "array([25.86174666, 21.5094961 , 24.77368402])"
      ]
     },
     "execution_count": 11,
     "metadata": {},
     "output_type": "execute_result"
    }
   ],
   "source": [
    "svr.predict(X_new)\n",
    "#SVM이 더 복잡하고 정교한 모델이지만, 그렇다고 해서 항상 나은 예측을 하는 것은 아니다.\n",
    "#기계 학습의 가장 어려운 부분 중 하나는 최상의 결과를 얻을 수 있는 모델과 올바른 매개변수를 찾아내는 것이다."
   ]
  },
  {
   "cell_type": "markdown",
   "metadata": {},
   "source": [
    "# Converting the Model to Apple’s Core ML Format"
   ]
  },
  {
   "cell_type": "code",
   "execution_count": 12,
   "metadata": {},
   "outputs": [],
   "source": [
    "import coremltools #coremltools로 Core ML로 내보낼 수 있다."
   ]
  },
  {
   "cell_type": "code",
   "execution_count": 13,
   "metadata": {},
   "outputs": [],
   "source": [
    "input_features = [\"tv\", \"radio\", \"newspaper\"]\n",
    "output_feature = \"sales\"\n",
    "\n",
    "model = coremltools.converters.sklearn.convert(regr, input_features, output_feature) #convert\n",
    "#매개 변수는 다음과 같다. convert 할 scikit-learn model, Xcode가 Swift 클래스 인터페이스 생성할 때 사용할 input, output의 feature\n",
    "model.save(\"Advertising.mlmodel\") #모델을 저장한다."
   ]
  }
 ],
 "metadata": {
  "kernelspec": {
   "display_name": "Python [conda env:turienv]",
   "language": "python",
   "name": "conda-env-turienv-py"
  },
  "language_info": {
   "codemirror_mode": {
    "name": "ipython",
    "version": 3
   },
   "file_extension": ".py",
   "mimetype": "text/x-python",
   "name": "python",
   "nbconvert_exporter": "python",
   "pygments_lexer": "ipython3",
   "version": "3.6.5"
  }
 },
 "nbformat": 4,
 "nbformat_minor": 2
}
