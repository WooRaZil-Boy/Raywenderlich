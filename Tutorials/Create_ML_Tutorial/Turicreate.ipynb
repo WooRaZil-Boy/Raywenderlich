{
 "cells": [
  {
   "cell_type": "markdown",
   "metadata": {},
   "source": [
    "# Turi Create\n",
    "\n",
    "https://www.raywenderlich.com/5653-create-ml-tutorial-getting-started    \n",
    "https://github.com/apple/turicreate        \n",
    "https://apple.github.io/turicreate/docs/userguide/    \n",
    "\n",
    "#### Turi Create Image Classifier    \n",
    "https://apple.github.io/turicreate/docs/userguide/image_classifier/\n",
    "\n",
    "#### Text Classifier    \n",
    "https://apple.github.io/turicreate/docs/userguide/text_classifier/\n",
    "https://www.raywenderlich.com/5213-natural-language-processing-on-ios-with-turi-create"
   ]
  },
  {
   "cell_type": "markdown",
   "metadata": {},
   "source": [
    "# Turi Create Image Similarity\n",
    "\n",
    "Turi Create에는 5가지의 task-focused toolkit이 있으며 아직 Create ML은 포함되어 있지 않다.\n",
    "- Recommender systems\n",
    "- Image similarity\n",
    "- Object detection\n",
    "- Style transfer\n",
    "- Activity classification\n",
    "\n",
    "여기서 테스트할 개와 고양이 분류는 similar image 에 해당한다."
   ]
  },
  {
   "cell_type": "code",
   "execution_count": 3,
   "metadata": {},
   "outputs": [
    {
     "data": {
      "text/html": [
       "<pre>Unsupported image format. Supported formats are JPEG and PNG\t file: /Users/geunseong-gai/Desktop/PetImages/.DS_Store</pre>"
      ],
      "text/plain": [
       "Unsupported image format. Supported formats are JPEG and PNG\t file: /Users/geunseong-gai/Desktop/PetImages/.DS_Store"
      ]
     },
     "metadata": {},
     "output_type": "display_data"
    },
    {
     "data": {
      "text/html": [
       "<pre>Unexpected JPEG decode failure\t file: /Users/geunseong-gai/Desktop/PetImages/Cat/140.jpg</pre>"
      ],
      "text/plain": [
       "Unexpected JPEG decode failure\t file: /Users/geunseong-gai/Desktop/PetImages/Cat/140.jpg"
      ]
     },
     "metadata": {},
     "output_type": "display_data"
    },
    {
     "data": {
      "text/html": [
       "<pre>Unexpected JPEG decode failure\t file: /Users/geunseong-gai/Desktop/PetImages/Cat/23.jpg</pre>"
      ],
      "text/plain": [
       "Unexpected JPEG decode failure\t file: /Users/geunseong-gai/Desktop/PetImages/Cat/23.jpg"
      ]
     },
     "metadata": {},
     "output_type": "display_data"
    },
    {
     "data": {
      "text/html": [
       "<pre>Unexpected JPEG decode failure\t file: /Users/geunseong-gai/Desktop/PetImages/Cat/391.jpg</pre>"
      ],
      "text/plain": [
       "Unexpected JPEG decode failure\t file: /Users/geunseong-gai/Desktop/PetImages/Cat/391.jpg"
      ]
     },
     "metadata": {},
     "output_type": "display_data"
    },
    {
     "data": {
      "text/html": [
       "<pre>Unexpected JPEG decode failure\t file: /Users/geunseong-gai/Desktop/PetImages/Cat/445.jpg</pre>"
      ],
      "text/plain": [
       "Unexpected JPEG decode failure\t file: /Users/geunseong-gai/Desktop/PetImages/Cat/445.jpg"
      ]
     },
     "metadata": {},
     "output_type": "display_data"
    },
    {
     "data": {
      "text/html": [
       "<pre>Unexpected JPEG decode failure\t file: /Users/geunseong-gai/Desktop/PetImages/Dog/296.jpg</pre>"
      ],
      "text/plain": [
       "Unexpected JPEG decode failure\t file: /Users/geunseong-gai/Desktop/PetImages/Dog/296.jpg"
      ]
     },
     "metadata": {},
     "output_type": "display_data"
    },
    {
     "data": {
      "text/html": [
       "<pre>Unexpected JPEG decode failure\t file: /Users/geunseong-gai/Desktop/PetImages/Dog/414.jpg</pre>"
      ],
      "text/plain": [
       "Unexpected JPEG decode failure\t file: /Users/geunseong-gai/Desktop/PetImages/Dog/414.jpg"
      ]
     },
     "metadata": {},
     "output_type": "display_data"
    },
    {
     "data": {
      "text/html": [
       "<pre>Unexpected JPEG decode failure\t file: /Users/geunseong-gai/Desktop/PetImages/Dog/50.jpg</pre>"
      ],
      "text/plain": [
       "Unexpected JPEG decode failure\t file: /Users/geunseong-gai/Desktop/PetImages/Dog/50.jpg"
      ]
     },
     "metadata": {},
     "output_type": "display_data"
    }
   ],
   "source": [
    "import turicreate as tc #turicreate을 불러온다.\n",
    "\n",
    "reference_data = tc.image_analysis.load_images('./PetImages') #이미지를 table에 로드\n",
    "#https://www.microsoft.com/en-us/download/details.aspx?id=54765 이 데이터를 PetImages 폴더에 저장한 후 실행\n",
    "reference_data = reference_data.add_row_number() #row number를 추가한다.\n",
    "reference_data.save('./kaggle-pets.sframe') #데이터 저장"
   ]
  },
  {
   "cell_type": "code",
   "execution_count": 4,
   "metadata": {},
   "outputs": [
    {
     "data": {
      "text/html": [
       "<pre>Materializing SFrame...</pre>"
      ],
      "text/plain": [
       "Materializing SFrame..."
      ]
     },
     "metadata": {},
     "output_type": "display_data"
    },
    {
     "data": {
      "text/html": [
       "<pre>Done.</pre>"
      ],
      "text/plain": [
       "Done."
      ]
     },
     "metadata": {},
     "output_type": "display_data"
    }
   ],
   "source": [
    "reference_data.explore() #id, path, image 를 가지고 있는 table window를 확인할 수 있다."
   ]
  },
  {
   "cell_type": "code",
   "execution_count": 5,
   "metadata": {},
   "outputs": [
    {
     "name": "stdout",
     "output_type": "stream",
     "text": [
      "Downloading https://docs-assets.developer.apple.com/turicreate/models/resnet-50-symbol.json\n",
      "Download completed: /var/tmp/model_cache/resnet-50-symbol.json\n",
      "Downloading https://docs-assets.developer.apple.com/turicreate/models/resnet-50-0000.params\n",
      "Download completed: /var/tmp/model_cache/resnet-50-0000.params\n",
      "Resizing images...\n",
      "Performing feature extraction on resized images...\n",
      "Completed 512/993\n",
      "Completed 993/993\n"
     ]
    },
    {
     "name": "stderr",
     "output_type": "stream",
     "text": [
      "<unknown>:39: DeprecationWarning: invalid escape sequence \\s\n"
     ]
    },
    {
     "data": {
      "text/html": [
       "<pre>Starting brute force nearest neighbors model training.</pre>"
      ],
      "text/plain": [
       "Starting brute force nearest neighbors model training."
      ]
     },
     "metadata": {},
     "output_type": "display_data"
    }
   ],
   "source": [
    "model = tc.image_similarity.create(reference_data) #reference_data(table)로 모델을 생성한다."
   ]
  },
  {
   "cell_type": "markdown",
   "metadata": {},
   "source": [
    "# Unsupervised Learning\n",
    "\n",
    "레이블이 분류된 데이터를 사용해 image classifier 하는 것을 supervised learning이라 한다.    \n",
    "여기에서는 레이블이 분류된 데이터를 사용하지만, 레이블을 사용하지 않고 unsupervised learning을 구현한다.    \n",
    "기본 모델은 이미 많은 이미지의 유사한 feature를 클러스터링할 수 있도록 학습되어 있다. 이후 nearest neighbors model 훈련을 한다.    \n",
    "각 이미지에 대해 다른 모든 이미지와의 거리를 계산하고 다른 이미지를 radius band로 묶는다."
   ]
  },
  {
   "cell_type": "markdown",
   "metadata": {},
   "source": [
    "# Querying the Model"
   ]
  },
  {
   "cell_type": "code",
   "execution_count": 6,
   "metadata": {},
   "outputs": [
    {
     "data": {
      "text/html": [
       "<pre>Starting pairwise querying.</pre>"
      ],
      "text/plain": [
       "Starting pairwise querying."
      ]
     },
     "metadata": {},
     "output_type": "display_data"
    },
    {
     "data": {
      "text/html": [
       "<pre>+--------------+---------+-------------+--------------+</pre>"
      ],
      "text/plain": [
       "+--------------+---------+-------------+--------------+"
      ]
     },
     "metadata": {},
     "output_type": "display_data"
    },
    {
     "data": {
      "text/html": [
       "<pre>| Query points | # Pairs | % Complete. | Elapsed Time |</pre>"
      ],
      "text/plain": [
       "| Query points | # Pairs | % Complete. | Elapsed Time |"
      ]
     },
     "metadata": {},
     "output_type": "display_data"
    },
    {
     "data": {
      "text/html": [
       "<pre>+--------------+---------+-------------+--------------+</pre>"
      ],
      "text/plain": [
       "+--------------+---------+-------------+--------------+"
      ]
     },
     "metadata": {},
     "output_type": "display_data"
    },
    {
     "data": {
      "text/html": [
       "<pre>| 0            | 10      | 0.100705    | 30.767ms     |</pre>"
      ],
      "text/plain": [
       "| 0            | 10      | 0.100705    | 30.767ms     |"
      ]
     },
     "metadata": {},
     "output_type": "display_data"
    },
    {
     "data": {
      "text/html": [
       "<pre>| Done         |         | 100         | 89.337ms     |</pre>"
      ],
      "text/plain": [
       "| Done         |         | 100         | 89.337ms     |"
      ]
     },
     "metadata": {},
     "output_type": "display_data"
    },
    {
     "data": {
      "text/html": [
       "<pre>+--------------+---------+-------------+--------------+</pre>"
      ],
      "text/plain": [
       "+--------------+---------+-------------+--------------+"
      ]
     },
     "metadata": {},
     "output_type": "display_data"
    },
    {
     "data": {
      "text/html": [
       "<div style=\"max-height:1000px;max-width:1500px;overflow:auto;\"><table frame=\"box\" rules=\"cols\">\n",
       "    <tr>\n",
       "        <th style=\"padding-left: 1em; padding-right: 1em; text-align: center\">query_label</th>\n",
       "        <th style=\"padding-left: 1em; padding-right: 1em; text-align: center\">reference_label</th>\n",
       "        <th style=\"padding-left: 1em; padding-right: 1em; text-align: center\">distance</th>\n",
       "        <th style=\"padding-left: 1em; padding-right: 1em; text-align: center\">rank</th>\n",
       "    </tr>\n",
       "    <tr>\n",
       "        <td style=\"padding-left: 1em; padding-right: 1em; text-align: center; vertical-align: top\">0</td>\n",
       "        <td style=\"padding-left: 1em; padding-right: 1em; text-align: center; vertical-align: top\">0</td>\n",
       "        <td style=\"padding-left: 1em; padding-right: 1em; text-align: center; vertical-align: top\">0.0</td>\n",
       "        <td style=\"padding-left: 1em; padding-right: 1em; text-align: center; vertical-align: top\">1</td>\n",
       "    </tr>\n",
       "    <tr>\n",
       "        <td style=\"padding-left: 1em; padding-right: 1em; text-align: center; vertical-align: top\">0</td>\n",
       "        <td style=\"padding-left: 1em; padding-right: 1em; text-align: center; vertical-align: top\">309</td>\n",
       "        <td style=\"padding-left: 1em; padding-right: 1em; text-align: center; vertical-align: top\">14.810596930958411</td>\n",
       "        <td style=\"padding-left: 1em; padding-right: 1em; text-align: center; vertical-align: top\">2</td>\n",
       "    </tr>\n",
       "    <tr>\n",
       "        <td style=\"padding-left: 1em; padding-right: 1em; text-align: center; vertical-align: top\">0</td>\n",
       "        <td style=\"padding-left: 1em; padding-right: 1em; text-align: center; vertical-align: top\">30</td>\n",
       "        <td style=\"padding-left: 1em; padding-right: 1em; text-align: center; vertical-align: top\">14.816778324847382</td>\n",
       "        <td style=\"padding-left: 1em; padding-right: 1em; text-align: center; vertical-align: top\">3</td>\n",
       "    </tr>\n",
       "    <tr>\n",
       "        <td style=\"padding-left: 1em; padding-right: 1em; text-align: center; vertical-align: top\">0</td>\n",
       "        <td style=\"padding-left: 1em; padding-right: 1em; text-align: center; vertical-align: top\">49</td>\n",
       "        <td style=\"padding-left: 1em; padding-right: 1em; text-align: center; vertical-align: top\">14.991121129639563</td>\n",
       "        <td style=\"padding-left: 1em; padding-right: 1em; text-align: center; vertical-align: top\">4</td>\n",
       "    </tr>\n",
       "    <tr>\n",
       "        <td style=\"padding-left: 1em; padding-right: 1em; text-align: center; vertical-align: top\">0</td>\n",
       "        <td style=\"padding-left: 1em; padding-right: 1em; text-align: center; vertical-align: top\">485</td>\n",
       "        <td style=\"padding-left: 1em; padding-right: 1em; text-align: center; vertical-align: top\">15.443226328039263</td>\n",
       "        <td style=\"padding-left: 1em; padding-right: 1em; text-align: center; vertical-align: top\">5</td>\n",
       "    </tr>\n",
       "    <tr>\n",
       "        <td style=\"padding-left: 1em; padding-right: 1em; text-align: center; vertical-align: top\">0</td>\n",
       "        <td style=\"padding-left: 1em; padding-right: 1em; text-align: center; vertical-align: top\">344</td>\n",
       "        <td style=\"padding-left: 1em; padding-right: 1em; text-align: center; vertical-align: top\">15.4770148233204</td>\n",
       "        <td style=\"padding-left: 1em; padding-right: 1em; text-align: center; vertical-align: top\">6</td>\n",
       "    </tr>\n",
       "    <tr>\n",
       "        <td style=\"padding-left: 1em; padding-right: 1em; text-align: center; vertical-align: top\">0</td>\n",
       "        <td style=\"padding-left: 1em; padding-right: 1em; text-align: center; vertical-align: top\">330</td>\n",
       "        <td style=\"padding-left: 1em; padding-right: 1em; text-align: center; vertical-align: top\">15.596135974358623</td>\n",
       "        <td style=\"padding-left: 1em; padding-right: 1em; text-align: center; vertical-align: top\">7</td>\n",
       "    </tr>\n",
       "    <tr>\n",
       "        <td style=\"padding-left: 1em; padding-right: 1em; text-align: center; vertical-align: top\">0</td>\n",
       "        <td style=\"padding-left: 1em; padding-right: 1em; text-align: center; vertical-align: top\">331</td>\n",
       "        <td style=\"padding-left: 1em; padding-right: 1em; text-align: center; vertical-align: top\">15.608336957399032</td>\n",
       "        <td style=\"padding-left: 1em; padding-right: 1em; text-align: center; vertical-align: top\">8</td>\n",
       "    </tr>\n",
       "    <tr>\n",
       "        <td style=\"padding-left: 1em; padding-right: 1em; text-align: center; vertical-align: top\">0</td>\n",
       "        <td style=\"padding-left: 1em; padding-right: 1em; text-align: center; vertical-align: top\">76</td>\n",
       "        <td style=\"padding-left: 1em; padding-right: 1em; text-align: center; vertical-align: top\">15.625666884523177</td>\n",
       "        <td style=\"padding-left: 1em; padding-right: 1em; text-align: center; vertical-align: top\">9</td>\n",
       "    </tr>\n",
       "    <tr>\n",
       "        <td style=\"padding-left: 1em; padding-right: 1em; text-align: center; vertical-align: top\">0</td>\n",
       "        <td style=\"padding-left: 1em; padding-right: 1em; text-align: center; vertical-align: top\">105</td>\n",
       "        <td style=\"padding-left: 1em; padding-right: 1em; text-align: center; vertical-align: top\">15.756726899354806</td>\n",
       "        <td style=\"padding-left: 1em; padding-right: 1em; text-align: center; vertical-align: top\">10</td>\n",
       "    </tr>\n",
       "</table>\n",
       "[10 rows x 4 columns]<br/>\n",
       "</div>"
      ],
      "text/plain": [
       "Columns:\n",
       "\tquery_label\tint\n",
       "\treference_label\tint\n",
       "\tdistance\tfloat\n",
       "\trank\tint\n",
       "\n",
       "Rows: 10\n",
       "\n",
       "Data:\n",
       "+-------------+-----------------+--------------------+------+\n",
       "| query_label | reference_label |      distance      | rank |\n",
       "+-------------+-----------------+--------------------+------+\n",
       "|      0      |        0        |        0.0         |  1   |\n",
       "|      0      |       309       | 14.810596930958411 |  2   |\n",
       "|      0      |        30       | 14.816778324847382 |  3   |\n",
       "|      0      |        49       | 14.991121129639563 |  4   |\n",
       "|      0      |       485       | 15.443226328039263 |  5   |\n",
       "|      0      |       344       |  15.4770148233204  |  6   |\n",
       "|      0      |       330       | 15.596135974358623 |  7   |\n",
       "|      0      |       331       | 15.608336957399032 |  8   |\n",
       "|      0      |        76       | 15.625666884523177 |  9   |\n",
       "|      0      |       105       | 15.756726899354806 |  10  |\n",
       "+-------------+-----------------+--------------------+------+\n",
       "[10 rows x 4 columns]"
      ]
     },
     "execution_count": 6,
     "metadata": {},
     "output_type": "execute_result"
    }
   ],
   "source": [
    "query_results = model.query(reference_data[0:10], k=10)\n",
    "#reference_data의 첫 10행이 포함된 배열을 전달한다. 그리고 각 10개씩 similar image를 쿼리한다.\n",
    "query_results.head() #첫 10개의 행을 표시한다."
   ]
  },
  {
   "cell_type": "code",
   "execution_count": 7,
   "metadata": {},
   "outputs": [],
   "source": [
    "reference_data[9]['image'].show() #10번째 이미지(label이 9)와 비슷한 이미지를 확인한다."
   ]
  },
  {
   "cell_type": "code",
   "execution_count": 10,
   "metadata": {},
   "outputs": [
    {
     "name": "stdout",
     "output_type": "stream",
     "text": [
      "[9, 336, 442, 334, 426, 276, 289, 15, 301, 28, ... ]\n"
     ]
    },
    {
     "data": {
      "text/html": [
       "<pre>Materializing SFrame...</pre>"
      ],
      "text/plain": [
       "Materializing SFrame..."
      ]
     },
     "metadata": {},
     "output_type": "display_data"
    },
    {
     "data": {
      "text/html": [
       "<pre>Done.</pre>"
      ],
      "text/plain": [
       "Done."
      ]
     },
     "metadata": {},
     "output_type": "display_data"
    }
   ],
   "source": [
    "similar_rows = query_results[query_results['query_label'] == 9]['reference_label'] \n",
    "#실제로 반환된 10번째 이미지(label이 9) 비슷한 이미지들의 reference_label(id)을 가져온다.\n",
    "print(similar_rows)\n",
    "reference_data.filter_by(similar_rows, 'id').explore() #해당 reference_label(id)를 필터링해 보여준다."
   ]
  }
 ],
 "metadata": {
  "kernelspec": {
   "display_name": "Python [conda env:turienv]",
   "language": "python",
   "name": "conda-env-turienv-py"
  },
  "language_info": {
   "codemirror_mode": {
    "name": "ipython",
    "version": 3
   },
   "file_extension": ".py",
   "mimetype": "text/x-python",
   "name": "python",
   "nbconvert_exporter": "python",
   "pygments_lexer": "ipython3",
   "version": "3.6.5"
  }
 },
 "nbformat": 4,
 "nbformat_minor": 2
}
